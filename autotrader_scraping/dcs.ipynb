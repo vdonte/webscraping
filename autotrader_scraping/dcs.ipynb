{
 "cells": [
  {
   "cell_type": "markdown",
   "id": "73c58a01-90f8-4c13-a92b-803348465f2a",
   "metadata": {},
   "source": [
    "# Autotrader Extraction Project"
   ]
  },
  {
   "cell_type": "code",
   "execution_count": 1,
   "id": "54b0eb56-c801-472e-b78b-364948f9b398",
   "metadata": {},
   "outputs": [],
   "source": [
    "import numpy as np\n",
    "import pandas as pd\n",
    "import calendar\n",
    "import matplotlib.pyplot as plt\n",
    "import math\n",
    "from datetime import datetime"
   ]
  },
  {
   "cell_type": "code",
   "execution_count": 2,
   "id": "523b1e17-94aa-4d3e-827a-bbeb7f9a4ae9",
   "metadata": {},
   "outputs": [],
   "source": [
    "pd.set_option('display.max.columns', 20)\n",
    "pd.set_option('display.max_colwidth', None)\n",
    "pd.set_option('display.max.rows', 1000)\n",
    "pd.set_option(\"display.float_format\", lambda x: \"%.2f\" % x )"
   ]
  },
  {
   "cell_type": "markdown",
   "id": "cfb2c79e-dea9-4b72-963f-902c9dc1641f",
   "metadata": {},
   "source": [
    "## Load Dataset"
   ]
  },
  {
   "cell_type": "code",
   "execution_count": 109,
   "id": "eb777f23-fd80-4852-95a4-ff135933be4c",
   "metadata": {},
   "outputs": [
    {
     "data": {
      "text/html": [
       "<div>\n",
       "<style scoped>\n",
       "    .dataframe tbody tr th:only-of-type {\n",
       "        vertical-align: middle;\n",
       "    }\n",
       "\n",
       "    .dataframe tbody tr th {\n",
       "        vertical-align: top;\n",
       "    }\n",
       "\n",
       "    .dataframe thead th {\n",
       "        text-align: right;\n",
       "    }\n",
       "</style>\n",
       "<table border=\"1\" class=\"dataframe\">\n",
       "  <thead>\n",
       "    <tr style=\"text-align: right;\">\n",
       "      <th></th>\n",
       "      <th>name</th>\n",
       "      <th>fullname</th>\n",
       "      <th>rating</th>\n",
       "      <th>description</th>\n",
       "      <th>address</th>\n",
       "      <th>Website</th>\n",
       "      <th>Phone number</th>\n",
       "      <th>link</th>\n",
       "    </tr>\n",
       "  </thead>\n",
       "  <tbody>\n",
       "    <tr>\n",
       "      <th>0</th>\n",
       "      <td>Group1 Toyota Wirral</td>\n",
       "      <td>Group1 Toyota Wirral</td>\n",
       "      <td>4.9 out of 5</td>\n",
       "      <td>FCA Regulated and Approved, Finance Available, Home Delivery Available</td>\n",
       "      <td>Docks Link, , Wallasey, Merseyside, CH44 3EQ</td>\n",
       "      <td>www.group1auto.co.uk</td>\n",
       "      <td>(0151) 382 4783</td>\n",
       "      <td>https://www.autotrader.co.uk/dealers/group1-toyota-wirral-10044382?channel=cars</td>\n",
       "    </tr>\n",
       "  </tbody>\n",
       "</table>\n",
       "</div>"
      ],
      "text/plain": [
       "                   name              fullname        rating  \\\n",
       "0  Group1 Toyota Wirral  Group1 Toyota Wirral  4.9 out of 5   \n",
       "\n",
       "                                                              description  \\\n",
       "0  FCA Regulated and Approved, Finance Available, Home Delivery Available   \n",
       "\n",
       "                                        address               Website  \\\n",
       "0  Docks Link, , Wallasey, Merseyside, CH44 3EQ  www.group1auto.co.uk   \n",
       "\n",
       "      Phone number  \\\n",
       "0  (0151) 382 4783   \n",
       "\n",
       "                                                                              link  \n",
       "0  https://www.autotrader.co.uk/dealers/group1-toyota-wirral-10044382?channel=cars  "
      ]
     },
     "execution_count": 109,
     "metadata": {},
     "output_type": "execute_result"
    }
   ],
   "source": [
    "df = pd.read_csv(\"./results/car_dealers_dataset.csv\")\n",
    "df.head(1)"
   ]
  },
  {
   "cell_type": "markdown",
   "id": "c0c864dc-01d1-454d-ab47-d999ee4be272",
   "metadata": {},
   "source": [
    "### Staging Dataset"
   ]
  },
  {
   "cell_type": "code",
   "execution_count": 165,
   "id": "c0ff9f6c-37b8-4383-a1ab-a4f11289310e",
   "metadata": {},
   "outputs": [
    {
     "data": {
      "text/html": [
       "<div>\n",
       "<style scoped>\n",
       "    .dataframe tbody tr th:only-of-type {\n",
       "        vertical-align: middle;\n",
       "    }\n",
       "\n",
       "    .dataframe tbody tr th {\n",
       "        vertical-align: top;\n",
       "    }\n",
       "\n",
       "    .dataframe thead th {\n",
       "        text-align: right;\n",
       "    }\n",
       "</style>\n",
       "<table border=\"1\" class=\"dataframe\">\n",
       "  <thead>\n",
       "    <tr style=\"text-align: right;\">\n",
       "      <th></th>\n",
       "      <th>name</th>\n",
       "      <th>fullname</th>\n",
       "      <th>rating</th>\n",
       "      <th>description</th>\n",
       "      <th>address</th>\n",
       "      <th>Website</th>\n",
       "      <th>Phone number</th>\n",
       "      <th>link</th>\n",
       "    </tr>\n",
       "  </thead>\n",
       "  <tbody>\n",
       "    <tr>\n",
       "      <th>0</th>\n",
       "      <td>Group1 Toyota Wirral</td>\n",
       "      <td>Group1 Toyota Wirral</td>\n",
       "      <td>4.9 out of 5</td>\n",
       "      <td>FCA Regulated and Approved, Finance Available, Home Delivery Available</td>\n",
       "      <td>Docks Link, , Wallasey, Merseyside, CH44 3EQ</td>\n",
       "      <td>www.group1auto.co.uk</td>\n",
       "      <td>(0151) 382 4783</td>\n",
       "      <td>https://www.autotrader.co.uk/dealers/group1-toyota-wirral-10044382?channel=cars</td>\n",
       "    </tr>\n",
       "  </tbody>\n",
       "</table>\n",
       "</div>"
      ],
      "text/plain": [
       "                   name              fullname        rating  \\\n",
       "0  Group1 Toyota Wirral  Group1 Toyota Wirral  4.9 out of 5   \n",
       "\n",
       "                                                              description  \\\n",
       "0  FCA Regulated and Approved, Finance Available, Home Delivery Available   \n",
       "\n",
       "                                        address               Website  \\\n",
       "0  Docks Link, , Wallasey, Merseyside, CH44 3EQ  www.group1auto.co.uk   \n",
       "\n",
       "      Phone number  \\\n",
       "0  (0151) 382 4783   \n",
       "\n",
       "                                                                              link  \n",
       "0  https://www.autotrader.co.uk/dealers/group1-toyota-wirral-10044382?channel=cars  "
      ]
     },
     "execution_count": 165,
     "metadata": {},
     "output_type": "execute_result"
    }
   ],
   "source": [
    "df1 = df.copy()\n",
    "df1.head(1)"
   ]
  },
  {
   "cell_type": "markdown",
   "id": "aea0a7fa-039b-4554-8cfe-a9f43e36f9ec",
   "metadata": {},
   "source": [
    "## Overview"
   ]
  },
  {
   "cell_type": "code",
   "execution_count": 166,
   "id": "f1187bf9-5ba2-4ab1-bb02-2faf3faa353d",
   "metadata": {},
   "outputs": [
    {
     "data": {
      "text/plain": [
       "(240, 8)"
      ]
     },
     "execution_count": 166,
     "metadata": {},
     "output_type": "execute_result"
    }
   ],
   "source": [
    "#Checking ths shape of the dataframe\n",
    "df1.shape"
   ]
  },
  {
   "cell_type": "code",
   "execution_count": 167,
   "id": "59e29170-4024-4d11-a661-4b31192aa5a4",
   "metadata": {},
   "outputs": [
    {
     "data": {
      "text/plain": [
       "Index(['name', 'fullname', 'rating', 'description', 'address', 'Website',\n",
       "       'Phone number', 'link'],\n",
       "      dtype='object')"
      ]
     },
     "execution_count": 167,
     "metadata": {},
     "output_type": "execute_result"
    }
   ],
   "source": [
    "#Checking the columns\n",
    "df1.columns"
   ]
  },
  {
   "cell_type": "code",
   "execution_count": 168,
   "id": "19c334e0-058c-4574-9cb5-c7bafa3034b6",
   "metadata": {},
   "outputs": [
    {
     "data": {
      "text/plain": [
       "name            object\n",
       "fullname        object\n",
       "rating          object\n",
       "description     object\n",
       "address         object\n",
       "Website         object\n",
       "Phone number    object\n",
       "link            object\n",
       "dtype: object"
      ]
     },
     "execution_count": 168,
     "metadata": {},
     "output_type": "execute_result"
    }
   ],
   "source": [
    "#The datatypes of the columnms\n",
    "df.dtypes"
   ]
  },
  {
   "cell_type": "code",
   "execution_count": 169,
   "id": "7311fbfe-7e11-40cd-b598-795c2c410147",
   "metadata": {},
   "outputs": [
    {
     "data": {
      "text/html": [
       "<div>\n",
       "<style scoped>\n",
       "    .dataframe tbody tr th:only-of-type {\n",
       "        vertical-align: middle;\n",
       "    }\n",
       "\n",
       "    .dataframe tbody tr th {\n",
       "        vertical-align: top;\n",
       "    }\n",
       "\n",
       "    .dataframe thead th {\n",
       "        text-align: right;\n",
       "    }\n",
       "</style>\n",
       "<table border=\"1\" class=\"dataframe\">\n",
       "  <thead>\n",
       "    <tr style=\"text-align: right;\">\n",
       "      <th></th>\n",
       "      <th>name</th>\n",
       "      <th>fullname</th>\n",
       "      <th>rating</th>\n",
       "      <th>description</th>\n",
       "      <th>address</th>\n",
       "      <th>Website</th>\n",
       "      <th>Phone number</th>\n",
       "      <th>link</th>\n",
       "    </tr>\n",
       "  </thead>\n",
       "  <tbody>\n",
       "    <tr>\n",
       "      <th>0</th>\n",
       "      <td>Group1 Toyota Wirral</td>\n",
       "      <td>Group1 Toyota Wirral</td>\n",
       "      <td>4.9 out of 5</td>\n",
       "      <td>FCA Regulated and Approved, Finance Available, Home Delivery Available</td>\n",
       "      <td>Docks Link, , Wallasey, Merseyside, CH44 3EQ</td>\n",
       "      <td>www.group1auto.co.uk</td>\n",
       "      <td>(0151) 382 4783</td>\n",
       "      <td>https://www.autotrader.co.uk/dealers/group1-toyota-wirral-10044382?channel=cars</td>\n",
       "    </tr>\n",
       "  </tbody>\n",
       "</table>\n",
       "</div>"
      ],
      "text/plain": [
       "                   name              fullname        rating  \\\n",
       "0  Group1 Toyota Wirral  Group1 Toyota Wirral  4.9 out of 5   \n",
       "\n",
       "                                                              description  \\\n",
       "0  FCA Regulated and Approved, Finance Available, Home Delivery Available   \n",
       "\n",
       "                                        address               Website  \\\n",
       "0  Docks Link, , Wallasey, Merseyside, CH44 3EQ  www.group1auto.co.uk   \n",
       "\n",
       "      Phone number  \\\n",
       "0  (0151) 382 4783   \n",
       "\n",
       "                                                                              link  \n",
       "0  https://www.autotrader.co.uk/dealers/group1-toyota-wirral-10044382?channel=cars  "
      ]
     },
     "execution_count": 169,
     "metadata": {},
     "output_type": "execute_result"
    }
   ],
   "source": [
    "#Dataset preview\n",
    "df1.head(1)"
   ]
  },
  {
   "cell_type": "markdown",
   "id": "6e0f6ad0-709f-479d-96e0-9939c8361519",
   "metadata": {},
   "source": [
    "## Data Cleaning"
   ]
  },
  {
   "cell_type": "code",
   "execution_count": 170,
   "id": "e14e8e26-1db1-4d3f-8a05-bac02c63eb51",
   "metadata": {},
   "outputs": [
    {
     "data": {
      "text/plain": [
       "(240, 8)"
      ]
     },
     "execution_count": 170,
     "metadata": {},
     "output_type": "execute_result"
    }
   ],
   "source": [
    "#Checking ths shape of the dataframe\n",
    "df1.shape"
   ]
  },
  {
   "cell_type": "code",
   "execution_count": 171,
   "id": "5f4877e6-f437-4de5-8e18-c732aa41dc89",
   "metadata": {},
   "outputs": [],
   "source": [
    "#Get the ID columnm\n",
    "#The ID contained in the link is used as the ID\n",
    "df1.loc[:, 'ID'] = df1['link'].apply(lambda x: str(x).split(\"/\")[-1]).apply(lambda x: str(x).split(\"?\")[0]).apply(lambda x: str(x).split(\"-\")[-1])"
   ]
  },
  {
   "cell_type": "code",
   "execution_count": 172,
   "id": "83a3812d-d534-4736-b450-784be2c91d41",
   "metadata": {},
   "outputs": [],
   "source": [
    "#Removing invalid and nan values\n",
    "df1 = df1[~(df1['ID'] == \"nan\")]"
   ]
  },
  {
   "cell_type": "code",
   "execution_count": 173,
   "id": "85728af2-b336-430d-8aae-50e09999c9ec",
   "metadata": {},
   "outputs": [],
   "source": [
    "#Converting the ID column to int32\n",
    "df1['ID'] = df1['ID'].astype(\"int32\")"
   ]
  },
  {
   "cell_type": "code",
   "execution_count": 174,
   "id": "5cb0d9b8-60e2-4808-ae04-a0ce3e4ecd77",
   "metadata": {},
   "outputs": [],
   "source": [
    "#Rearranging and reordering Columns\n",
    "df1 = df1[['ID', 'name', 'rating', 'description', 'address', 'Phone number', 'Website']]"
   ]
  },
  {
   "cell_type": "code",
   "execution_count": 175,
   "id": "f8ed0339-c835-45d3-8653-90e9a18760bd",
   "metadata": {},
   "outputs": [],
   "source": [
    "#Converting columns heading to title snake case\n",
    "df1.columns = df1.columns.str.title()\n",
    "df1.columns = df1.columns.str.replace(\" \", \"_\")"
   ]
  },
  {
   "cell_type": "code",
   "execution_count": 176,
   "id": "05fa1691-2180-4987-bdbd-33b369d25164",
   "metadata": {},
   "outputs": [],
   "source": [
    "#Rename the column to caps\n",
    "df1 = df1.rename(columns = {\n",
    "    \"Id\": \"ID\"\n",
    "})"
   ]
  },
  {
   "cell_type": "code",
   "execution_count": 177,
   "id": "cc02a5c7-483f-463f-9236-effc4fb6111a",
   "metadata": {},
   "outputs": [],
   "source": [
    "#Cleaning the rating colums\n",
    "df1.loc[:,'Rating'] = df1.loc[:,'Rating'].apply(lambda x: str(x).replace(\"No recent reviews\", \"0\" )).apply(lambda x: str(x).replace(\"out of 5\", \"\" )).str.strip()\n",
    "df1['Rating'] = df1['Rating'].astype(\"float\")"
   ]
  },
  {
   "cell_type": "code",
   "execution_count": 178,
   "id": "0f1ecd20-844a-44d3-a5b1-21ed0e6491df",
   "metadata": {},
   "outputs": [],
   "source": [
    "#Cleaning the Address column\n",
    "df1.loc[:,'Address'] = df1.loc[:,'Address'].apply(lambda x: str(x).replace(\", , \", \", \" )).apply(lambda x: str(x).strip())"
   ]
  },
  {
   "cell_type": "code",
   "execution_count": 179,
   "id": "4d41d03f-f56a-4986-9cfe-2efa522c8ddc",
   "metadata": {},
   "outputs": [],
   "source": [
    "#Cleaning NA\n",
    "df1 = df1.fillna(\"\")"
   ]
  },
  {
   "cell_type": "code",
   "execution_count": 180,
   "id": "0fbb3dc1-60fe-4fa2-ad59-eadc607be957",
   "metadata": {},
   "outputs": [],
   "source": [
    "#Cleaning the Phone_Number\n",
    "df1['Phone_Number'] = df1['Phone_Number'].str.replace(\" \", \"-\")"
   ]
  },
  {
   "cell_type": "code",
   "execution_count": 181,
   "id": "421fc95d-23a2-453d-b85e-425a160ae1a8",
   "metadata": {},
   "outputs": [
    {
     "data": {
      "text/html": [
       "<div>\n",
       "<style scoped>\n",
       "    .dataframe tbody tr th:only-of-type {\n",
       "        vertical-align: middle;\n",
       "    }\n",
       "\n",
       "    .dataframe tbody tr th {\n",
       "        vertical-align: top;\n",
       "    }\n",
       "\n",
       "    .dataframe thead th {\n",
       "        text-align: right;\n",
       "    }\n",
       "</style>\n",
       "<table border=\"1\" class=\"dataframe\">\n",
       "  <thead>\n",
       "    <tr style=\"text-align: right;\">\n",
       "      <th></th>\n",
       "      <th>ID</th>\n",
       "      <th>Name</th>\n",
       "      <th>Rating</th>\n",
       "      <th>Description</th>\n",
       "      <th>Address</th>\n",
       "      <th>Phone_Number</th>\n",
       "      <th>Website</th>\n",
       "    </tr>\n",
       "  </thead>\n",
       "  <tbody>\n",
       "    <tr>\n",
       "      <th>0</th>\n",
       "      <td>10044382</td>\n",
       "      <td>Group1 Toyota Wirral</td>\n",
       "      <td>4.90</td>\n",
       "      <td>FCA Regulated and Approved, Finance Available, Home Delivery Available</td>\n",
       "      <td>Docks Link, Wallasey, Merseyside, CH44 3EQ</td>\n",
       "      <td>(0151)-382-4783</td>\n",
       "      <td>www.group1auto.co.uk</td>\n",
       "    </tr>\n",
       "    <tr>\n",
       "      <th>1</th>\n",
       "      <td>10003711</td>\n",
       "      <td>Williams Liverpool Mini</td>\n",
       "      <td>0.00</td>\n",
       "      <td>Family Business for 110 years, 100% Approved Used Vehicles, Over 200 Approved Used MINIs</td>\n",
       "      <td>4 GREAT HOWARD STREET, Liverpool, Mersyside, L3 7HT</td>\n",
       "      <td>(0151)-382-7853</td>\n",
       "      <td>www.williamsgroup.co.uk</td>\n",
       "    </tr>\n",
       "    <tr>\n",
       "      <th>2</th>\n",
       "      <td>3896</td>\n",
       "      <td>Williams Liverpool Bmw</td>\n",
       "      <td>4.60</td>\n",
       "      <td>Family Business for 110 years, 100% Approved Used Vehicles, Over 650 Approved Used BMWs</td>\n",
       "      <td>4 Great Howard Street, Liverpool, Merseyside, L3 7HT</td>\n",
       "      <td>(0151)-382-7977</td>\n",
       "      <td>www.williamsgroup.co.uk</td>\n",
       "    </tr>\n",
       "    <tr>\n",
       "      <th>3</th>\n",
       "      <td>10004792</td>\n",
       "      <td>The Van Place Ltd</td>\n",
       "      <td>4.00</td>\n",
       "      <td></td>\n",
       "      <td>UNIT 1A SANDON INDUSTRIAL ESTATE, SANDON WAY, Liverpool, Lancashire, L5 9YN</td>\n",
       "      <td>(07441)-914750</td>\n",
       "      <td>www.thevanplace.com</td>\n",
       "    </tr>\n",
       "    <tr>\n",
       "      <th>4</th>\n",
       "      <td>27433</td>\n",
       "      <td>Mercedes-Benz Of Liverpool</td>\n",
       "      <td>4.70</td>\n",
       "      <td>Manufacturer Approved Dealer., Price checked to market, Aftersales facilities</td>\n",
       "      <td>66-68 Pall Mall, Liverpool, Merseyside, L3 7DB</td>\n",
       "      <td>(0151)-382-7799</td>\n",
       "      <td>www.group1auto.co.uk</td>\n",
       "    </tr>\n",
       "    <tr>\n",
       "      <th>5</th>\n",
       "      <td>27515</td>\n",
       "      <td>Smart Of Liverpool</td>\n",
       "      <td>0.00</td>\n",
       "      <td></td>\n",
       "      <td>66-68 Pall Mall, Liverpool, Merseyside, L3 7DB</td>\n",
       "      <td>(0151)-382-8750</td>\n",
       "      <td>www.group1auto.co.uk</td>\n",
       "    </tr>\n",
       "    <tr>\n",
       "      <th>6</th>\n",
       "      <td>14266</td>\n",
       "      <td>Stoneacre Wallasey</td>\n",
       "      <td>1.50</td>\n",
       "      <td>We offer competitive valuation, Now available to all customers, A large panel of lenders</td>\n",
       "      <td>Rowson Street, New Brighton, Wallasey, Merseyside, CH45 2NA</td>\n",
       "      <td>(0151)-382-7597</td>\n",
       "      <td>www.stoneacre.co.uk</td>\n",
       "    </tr>\n",
       "    <tr>\n",
       "      <th>7</th>\n",
       "      <td>10011029</td>\n",
       "      <td>Johnsons Skoda Liverpool</td>\n",
       "      <td>4.90</td>\n",
       "      <td></td>\n",
       "      <td>SANDHILLS LANE, Liverpool, Lancashire, L5 9XN</td>\n",
       "      <td>(0151)-382-8177</td>\n",
       "      <td>www.johnsonscars.co.uk</td>\n",
       "    </tr>\n",
       "    <tr>\n",
       "      <th>8</th>\n",
       "      <td>6840</td>\n",
       "      <td>Liverpool Audi</td>\n",
       "      <td>4.00</td>\n",
       "      <td>Franchised Audi Dealer,  95% Of Customers Recommend Us, Exceptional Audi Aftercare</td>\n",
       "      <td>41 Sandhills Lane, Liverpool, Merseyside, L5 9XN</td>\n",
       "      <td>(0151)-382-8421</td>\n",
       "      <td>www.stratstone.com</td>\n",
       "    </tr>\n",
       "    <tr>\n",
       "      <th>9</th>\n",
       "      <td>749157</td>\n",
       "      <td>Johnsons Seat Liverpool</td>\n",
       "      <td>4.80</td>\n",
       "      <td></td>\n",
       "      <td>Pall Mall, Liverpool, Merseyside, L3 6AL</td>\n",
       "      <td>(0151)-382-7754</td>\n",
       "      <td>www.johnsonscars.co.uk</td>\n",
       "    </tr>\n",
       "  </tbody>\n",
       "</table>\n",
       "</div>"
      ],
      "text/plain": [
       "         ID                        Name  Rating  \\\n",
       "0  10044382        Group1 Toyota Wirral    4.90   \n",
       "1  10003711     Williams Liverpool Mini    0.00   \n",
       "2      3896      Williams Liverpool Bmw    4.60   \n",
       "3  10004792           The Van Place Ltd    4.00   \n",
       "4     27433  Mercedes-Benz Of Liverpool    4.70   \n",
       "5     27515          Smart Of Liverpool    0.00   \n",
       "6     14266          Stoneacre Wallasey    1.50   \n",
       "7  10011029    Johnsons Skoda Liverpool    4.90   \n",
       "8      6840              Liverpool Audi    4.00   \n",
       "9    749157     Johnsons Seat Liverpool    4.80   \n",
       "\n",
       "                                                                                 Description  \\\n",
       "0                     FCA Regulated and Approved, Finance Available, Home Delivery Available   \n",
       "1   Family Business for 110 years, 100% Approved Used Vehicles, Over 200 Approved Used MINIs   \n",
       "2    Family Business for 110 years, 100% Approved Used Vehicles, Over 650 Approved Used BMWs   \n",
       "3                                                                                              \n",
       "4              Manufacturer Approved Dealer., Price checked to market, Aftersales facilities   \n",
       "5                                                                                              \n",
       "6  We offer competitive valuation, Now available to all customers, A large panel of lenders    \n",
       "7                                                                                              \n",
       "8         Franchised Audi Dealer,  95% Of Customers Recommend Us, Exceptional Audi Aftercare   \n",
       "9                                                                                              \n",
       "\n",
       "                                                                       Address  \\\n",
       "0                                   Docks Link, Wallasey, Merseyside, CH44 3EQ   \n",
       "1                          4 GREAT HOWARD STREET, Liverpool, Mersyside, L3 7HT   \n",
       "2                         4 Great Howard Street, Liverpool, Merseyside, L3 7HT   \n",
       "3  UNIT 1A SANDON INDUSTRIAL ESTATE, SANDON WAY, Liverpool, Lancashire, L5 9YN   \n",
       "4                               66-68 Pall Mall, Liverpool, Merseyside, L3 7DB   \n",
       "5                               66-68 Pall Mall, Liverpool, Merseyside, L3 7DB   \n",
       "6                  Rowson Street, New Brighton, Wallasey, Merseyside, CH45 2NA   \n",
       "7                                SANDHILLS LANE, Liverpool, Lancashire, L5 9XN   \n",
       "8                             41 Sandhills Lane, Liverpool, Merseyside, L5 9XN   \n",
       "9                                     Pall Mall, Liverpool, Merseyside, L3 6AL   \n",
       "\n",
       "      Phone_Number                  Website  \n",
       "0  (0151)-382-4783     www.group1auto.co.uk  \n",
       "1  (0151)-382-7853  www.williamsgroup.co.uk  \n",
       "2  (0151)-382-7977  www.williamsgroup.co.uk  \n",
       "3   (07441)-914750      www.thevanplace.com  \n",
       "4  (0151)-382-7799     www.group1auto.co.uk  \n",
       "5  (0151)-382-8750     www.group1auto.co.uk  \n",
       "6  (0151)-382-7597      www.stoneacre.co.uk  \n",
       "7  (0151)-382-8177   www.johnsonscars.co.uk  \n",
       "8  (0151)-382-8421       www.stratstone.com  \n",
       "9  (0151)-382-7754   www.johnsonscars.co.uk  "
      ]
     },
     "execution_count": 181,
     "metadata": {},
     "output_type": "execute_result"
    }
   ],
   "source": [
    "df1.head(10)"
   ]
  },
  {
   "cell_type": "markdown",
   "id": "3ea12d9c-a529-401c-a881-3e45546fc31f",
   "metadata": {},
   "source": [
    "## Save Result"
   ]
  },
  {
   "cell_type": "code",
   "execution_count": 185,
   "id": "632fcee1-76e7-42b1-b7fb-347574a2f039",
   "metadata": {},
   "outputs": [],
   "source": [
    "df1.to_csv(\"./results/car_dealers_dataset_cleaned.csv\", index = False)"
   ]
  },
  {
   "cell_type": "code",
   "execution_count": null,
   "id": "ed4769d2-1e75-41b9-a2db-26c453c71d9e",
   "metadata": {},
   "outputs": [],
   "source": []
  }
 ],
 "metadata": {
  "kernelspec": {
   "display_name": "Python 3 (ipykernel)",
   "language": "python",
   "name": "python3"
  },
  "language_info": {
   "codemirror_mode": {
    "name": "ipython",
    "version": 3
   },
   "file_extension": ".py",
   "mimetype": "text/x-python",
   "name": "python",
   "nbconvert_exporter": "python",
   "pygments_lexer": "ipython3",
   "version": "3.12.7"
  }
 },
 "nbformat": 4,
 "nbformat_minor": 5
}
